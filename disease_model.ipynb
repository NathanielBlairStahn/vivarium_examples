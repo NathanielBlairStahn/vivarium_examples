{
 "cells": [
  {
   "cell_type": "markdown",
   "metadata": {},
   "source": [
    "# Run simulation in the Vivarium Disease Model tutorial\n",
    "\n",
    "Tuesday, April 2, 2019"
   ]
  },
  {
   "cell_type": "code",
   "execution_count": 1,
   "metadata": {},
   "outputs": [
    {
     "ename": "ModuleNotFoundError",
     "evalue": "No module named 'vivarium_examples.disease_model'",
     "output_type": "error",
     "traceback": [
      "\u001b[0;31m---------------------------------------------------------------------------\u001b[0m",
      "\u001b[0;31mModuleNotFoundError\u001b[0m                       Traceback (most recent call last)",
      "\u001b[0;32m<ipython-input-1-09a462d00d49>\u001b[0m in \u001b[0;36m<module>\u001b[0;34m\u001b[0m\n\u001b[1;32m      1\u001b[0m \u001b[0;32mfrom\u001b[0m \u001b[0mvivarium\u001b[0m\u001b[0;34m.\u001b[0m\u001b[0minterface\u001b[0m \u001b[0;32mimport\u001b[0m \u001b[0msetup_simulation\u001b[0m\u001b[0;34m,\u001b[0m \u001b[0mbuild_simulation_configuration\u001b[0m\u001b[0;34m\u001b[0m\u001b[0;34m\u001b[0m\u001b[0m\n\u001b[0;32m----> 2\u001b[0;31m \u001b[0;32mfrom\u001b[0m \u001b[0mvivarium_examples\u001b[0m\u001b[0;34m.\u001b[0m\u001b[0mdisease_model\u001b[0m\u001b[0;34m.\u001b[0m\u001b[0mpopulation\u001b[0m \u001b[0;32mimport\u001b[0m \u001b[0mBasePopulation\u001b[0m\u001b[0;34m\u001b[0m\u001b[0;34m\u001b[0m\u001b[0m\n\u001b[0m",
      "\u001b[0;31mModuleNotFoundError\u001b[0m: No module named 'vivarium_examples.disease_model'"
     ]
    }
   ],
   "source": [
    "from vivarium.interface import setup_simulation, build_simulation_configuration\n",
    "from vivarium_examples.disease_model.population import BasePopulation"
   ]
  },
  {
   "cell_type": "code",
   "execution_count": null,
   "metadata": {},
   "outputs": [],
   "source": [
    "config = build_simulation_configuration()\n",
    "config.update({\n",
    "    'randomness': {\n",
    "        'key_columns': ['entrance_time', 'age']\n",
    "    }\n",
    "})\n",
    "\n",
    "sim = setup_simulation([BasePopulation()], config)\n",
    "\n",
    "print(sim.get_population().head())"
   ]
  }
 ],
 "metadata": {
  "kernelspec": {
   "display_name": "Vivarium (Python 3.7)",
   "language": "python",
   "name": "vivarium"
  },
  "language_info": {
   "codemirror_mode": {
    "name": "ipython",
    "version": 3
   },
   "file_extension": ".py",
   "mimetype": "text/x-python",
   "name": "python",
   "nbconvert_exporter": "python",
   "pygments_lexer": "ipython3",
   "version": "3.7.3"
  }
 },
 "nbformat": 4,
 "nbformat_minor": 2
}
