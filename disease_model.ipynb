{
 "cells": [
  {
   "cell_type": "markdown",
   "metadata": {},
   "source": [
    "# Run simulation in the Vivarium Disease Model tutorial\n",
    "\n",
    "Tuesday, April 2, 2019"
   ]
  },
  {
   "cell_type": "code",
   "execution_count": 4,
   "metadata": {},
   "outputs": [],
   "source": [
    "%load_ext autoreload\n",
    "%autoreload 2"
   ]
  },
  {
   "cell_type": "code",
   "execution_count": 6,
   "metadata": {},
   "outputs": [],
   "source": [
    "from vivarium.interface import setup_simulation, build_simulation_configuration\n",
    "from vivarium_examples.disease_model.population import BasePopulation"
   ]
  },
  {
   "cell_type": "code",
   "execution_count": 7,
   "metadata": {},
   "outputs": [
    {
     "name": "stdout",
     "output_type": "stream",
     "text": [
      "   tracked  alive entrance_time        age     sex\n",
      "0     True  alive    2005-07-01  78.088109    Male\n",
      "1     True  alive    2005-07-01  44.072665    Male\n",
      "2     True  alive    2005-07-01  48.346571  Female\n",
      "3     True  alive    2005-07-01  91.002147  Female\n",
      "4     True  alive    2005-07-01  63.641191  Female\n"
     ]
    }
   ],
   "source": [
    "config = build_simulation_configuration()\n",
    "config.update({\n",
    "    'randomness': {\n",
    "        'key_columns': ['entrance_time', 'age']\n",
    "    }\n",
    "})\n",
    "\n",
    "sim = setup_simulation([BasePopulation()], config)\n",
    "\n",
    "print(sim.get_population().head())"
   ]
  },
  {
   "cell_type": "code",
   "execution_count": null,
   "metadata": {},
   "outputs": [],
   "source": []
  }
 ],
 "metadata": {
  "kernelspec": {
   "display_name": "Vivarium (Python 3.7)",
   "language": "python",
   "name": "vivarium"
  },
  "language_info": {
   "codemirror_mode": {
    "name": "ipython",
    "version": 3
   },
   "file_extension": ".py",
   "mimetype": "text/x-python",
   "name": "python",
   "nbconvert_exporter": "python",
   "pygments_lexer": "ipython3",
   "version": "3.7.3"
  }
 },
 "nbformat": 4,
 "nbformat_minor": 2
}
